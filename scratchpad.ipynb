{
 "cells": [
  {
   "cell_type": "code",
   "execution_count": 1,
   "metadata": {
    "collapsed": true
   },
   "outputs": [],
   "source": [
    "from pyspark.sql import SparkSession\n",
    "from pyspark import SparkContext\n",
    "from pyspark import SparkConf\n",
    "# from pyspark.sql import SQLContext\n",
    " \n",
    "spark = SparkSession.builder \\\n",
    ".appName(\"example-spark\")\\\n",
    ".config(\"spark.sql.crossJoin.enabled\",\"true\")\\\n",
    ".getOrCreate()\n"
   ]
  },
  {
   "cell_type": "code",
   "execution_count": 66,
   "metadata": {
    "scrolled": false
   },
   "outputs": [
    {
     "data": {
      "text/plain": [
       "73"
      ]
     },
     "execution_count": 66,
     "metadata": {},
     "output_type": "execute_result"
    }
   ],
   "source": [
    "df = spark.read.csv(\"Map_of_Schools.csv\",header=True,multiLine=True)\n",
    "from pyspark.sql import functions as F\n",
    "\n",
    "df = spark.read.json(\"schools.json\",multiLine=True)\n",
    "\n",
    "#df.printSchema()\n",
    "\n",
    "gp = df.groupBy('schoolcode')\n",
    "gp1 = gp.agg(F.min(df.schoolname).alias('mn'), F.max(df.schoolname).alias('mx'))\n",
    "gp1.filter(gp1.mn != gp1.mx).take(4)\n",
    "\n",
    "latLong = df.select(df.schoolname,df.geocoded_location.latitude.alias('lat')\n",
    "                    ,df.geocoded_location.longitude.alias('long') )\n",
    "latLong.filter(latLong.lat.isNull() | latLong.long.isNull()).count()\n",
    "#latLong.printSchema()\n",
    "\n"
   ]
  },
  {
   "cell_type": "code",
   "execution_count": 70,
   "metadata": {},
   "outputs": [
    {
     "data": {
      "text/plain": [
       "[Row(geocoded_location.human_address='{\"address\":\"238 Sorghum Mill Road\",\"city\":\"Camden\",\"state\":\"DE\",\"zip\":\"19934\"}'),\n",
       " Row(geocoded_location.human_address='{\"address\":\"Post Office Box 258\",\"city\":\"Magnolia\",\"state\":\"DE\",\"zip\":\"19962\"}')]"
      ]
     },
     "execution_count": 70,
     "metadata": {},
     "output_type": "execute_result"
    }
   ],
   "source": [
    "df.select(df.geocoded_location.human_address).take(2)\n",
    "\n",
    "df.map"
   ]
  },
  {
   "cell_type": "code",
   "execution_count": null,
   "metadata": {
    "collapsed": true
   },
   "outputs": [],
   "source": [
    "```python\n",
    ">>> import requests\n",
    ">>> url = 'https://maps.googleapis.com/maps/api/geocode/json'\n",
    ">>> params = {'sensor': 'false', 'address': 'Mountain View, CA'}\n",
    ">>> r = requests.get(url, params=params)\n",
    ">>> results = r.json()['results']\n",
    ">>> location = results[0]['geometry']['location']\n",
    ">>> location['lat'], location['lng']\n",
    "(37.3860517, -122.0838511)"
   ]
  },
  {
   "cell_type": "code",
   "execution_count": 89,
   "metadata": {
    "collapsed": true
   },
   "outputs": [],
   "source": [
    "from pyspark.sql.functions import udf\n",
    "import json\n",
    "\n",
    "\n",
    "def gedAddr(addr):\n",
    "    return ' '.join(data[key] for key in data)    \n",
    "\n",
    "iplookup_udf = udf(gedAddr)\n"
   ]
  },
  {
   "cell_type": "code",
   "execution_count": null,
   "metadata": {
    "collapsed": true
   },
   "outputs": [],
   "source": []
  },
  {
   "cell_type": "code",
   "execution_count": 88,
   "metadata": {},
   "outputs": [
    {
     "data": {
      "text/plain": [
       "'Post Office Box 258 Magnolia DE 19962'"
      ]
     },
     "execution_count": 88,
     "metadata": {},
     "output_type": "execute_result"
    }
   ],
   "source": [
    "import json\n",
    "\n",
    "data = json.loads('{\"address\":\"Post Office Box 258\",\"city\":\"Magnolia\",\"state\":\"DE\",\"zip\":\"19962\"}')\n",
    "\n",
    "' '.join(data[key] for key in data)"
   ]
  },
  {
   "cell_type": "code",
   "execution_count": null,
   "metadata": {
    "collapsed": true
   },
   "outputs": [],
   "source": []
  }
 ],
 "metadata": {
  "kernelspec": {
   "display_name": "Python 3",
   "language": "python",
   "name": "python3"
  },
  "language_info": {
   "codemirror_mode": {
    "name": "ipython",
    "version": 3
   },
   "file_extension": ".py",
   "mimetype": "text/x-python",
   "name": "python",
   "nbconvert_exporter": "python",
   "pygments_lexer": "ipython3",
   "version": "3.6.3"
  }
 },
 "nbformat": 4,
 "nbformat_minor": 2
}
