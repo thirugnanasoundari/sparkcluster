{
 "cells": [
  {
   "cell_type": "code",
   "execution_count": 1,
   "metadata": {},
   "outputs": [],
   "source": [
    "from pyspark.sql import SparkSession\n",
    "from pyspark import SparkContext\n",
    "from pyspark import SparkConf\n",
    "# from pyspark.sql import SQLContext\n",
    " \n",
    "spark = SparkSession.builder \\\n",
    ".appName(\"example-spark\")\\\n",
    ".config(\"spark.sql.crossJoin.enabled\",\"true\")\\\n",
    ".getOrCreate()\n"
   ]
  },
  {
   "cell_type": "code",
   "execution_count": 19,
   "metadata": {},
   "outputs": [],
   "source": [
    "df = spark.read.csv(\"schools.csv\",header=True,multiLine=True)"
   ]
  },
  {
   "cell_type": "code",
   "execution_count": 45,
   "metadata": {
    "scrolled": false
   },
   "outputs": [],
   "source": [
    "#df.printSchema()\n",
    "#df.select(\"SchoolYear\").show()\n",
    "#df.take(2)\n",
    "#df.toPandas()\n",
    "#df.groupBy(\"SchoolYear\",\"SchoolName\").toPandas()\n",
    "#df.createGlobalTempView(\"schools\")\n",
    "#spark.sql(\"SELECT * FROM global_temp.schools\").toPandas()\n",
    "df\\\n",
    ".withColumnRenamed('SchoolYear','schoolyear')\\\n",
    ".withColumnRenamed('DistrictCode' ,'districtcode')\\\n",
    ".withColumnRenamed('SchoolCode' ,'schoolcode')\\\n",
    ".withColumnRenamed('DistrictName' ,'districtname')\\\n",
    ".withColumnRenamed('DistrictType' ,'districttype')\\\n",
    ".withColumnRenamed('SchoolName' ,'schoolname')\\\n",
    ".withColumnRenamed('SchoolType' ,'schooltype')\\\n",
    ".withColumnRenamed('Street1' ,'street1')\\\n",
    ".withColumnRenamed('Street2' ,'street2')\\\n",
    ".withColumnRenamed('City' ,'city')\\\n",
    ".withColumnRenamed('State' ,'state')\\\n",
    ".withColumnRenamed('Zip' ,'zip')\\\n",
    ".withColumnRenamed('County' ,'county')\\\n",
    ".withColumnRenamed('LowestGrade' ,'lowestgrade')\\\n",
    ".withColumnRenamed('HighestGrade' ,'highestgrade')\\\n",
    ".withColumnRenamed('EducationLevel' ,'educationlevel')\\\n",
    ".withColumnRenamed('HasEC' ,'hasec')\\\n",
    ".withColumnRenamed('HasPK' ,'haspk')\\\n",
    ".withColumnRenamed('HasKN' ,'haskn')\\\n",
    ".withColumnRenamed('HasElementaryGrade' ,'haselementarygrade')\\\n",
    ".withColumnRenamed('HasMiddleGrade' ,'hasmiddlegrade')\\\n",
    ".withColumnRenamed('HasHighGrade' ,'hashighgrade')\\\n",
    ".withColumnRenamed('IsUngraded' ,'isungraded')\\\n",
    ".withColumnRenamed('Geocoded Location' ,'geocoded_location')\\\n",
    ".write.parquet(\"school.parquet\")"
   ]
  },
  {
   "cell_type": "code",
   "execution_count": 38,
   "metadata": {},
   "outputs": [
    {
     "data": {
      "text/plain": [
       "[Row(SchoolYear='2016', DistrictCode='10', SchoolCode='611', DistrictName='Caesar Rodney School District', DistrictType='Regular', SchoolName='J. Ralph McIlvaine Early Childhood Center', SchoolType='PUBLIC', Street1='Post Office Box 258', Street2='11 East Walnut', City='Magnolia', State='DE', Zip='19962', County='Kent', LowestGrade='KG', HighestGrade='KG', EducationLevel='Kindergarten', HasEC='0', HasPK='0', HasKN='1', HasElementaryGrade='0', HasMiddleGrade='0', HasHighGrade='0', IsUngraded='0', Geocoded Location='Post Office Box 258')]"
      ]
     },
     "execution_count": 38,
     "metadata": {},
     "output_type": "execute_result"
    }
   ],
   "source": [
    "df.take(1)"
   ]
  },
  {
   "cell_type": "code",
   "execution_count": 4,
   "metadata": {},
   "outputs": [
    {
     "ename": "ModuleNotFoundError",
     "evalue": "No module named 'jvm_conversions'",
     "output_type": "error",
     "traceback": [
      "\u001b[1;31m---------------------------------------------------------------------------\u001b[0m",
      "\u001b[1;31mModuleNotFoundError\u001b[0m                       Traceback (most recent call last)",
      "\u001b[1;32m<ipython-input-4-f0c2847486f8>\u001b[0m in \u001b[0;36m<module>\u001b[1;34m()\u001b[0m\n\u001b[1;32m----> 1\u001b[1;33m \u001b[1;32mfrom\u001b[0m \u001b[0mpyddq\u001b[0m\u001b[1;33m.\u001b[0m\u001b[0mcore\u001b[0m \u001b[1;32mimport\u001b[0m \u001b[0mCheck\u001b[0m\u001b[1;33m\u001b[0m\u001b[0m\n\u001b[0m\u001b[0;32m      2\u001b[0m \u001b[1;33m\u001b[0m\u001b[0m\n\u001b[0;32m      3\u001b[0m \u001b[0mdf\u001b[0m \u001b[1;33m=\u001b[0m \u001b[0mspark\u001b[0m\u001b[1;33m.\u001b[0m\u001b[0mcreateDataFrame\u001b[0m\u001b[1;33m(\u001b[0m\u001b[1;33m[\u001b[0m\u001b[1;33m(\u001b[0m\u001b[1;36m1\u001b[0m\u001b[1;33m,\u001b[0m \u001b[1;34m\"a\"\u001b[0m\u001b[1;33m)\u001b[0m\u001b[1;33m,\u001b[0m \u001b[1;33m(\u001b[0m\u001b[1;36m1\u001b[0m\u001b[1;33m,\u001b[0m \u001b[1;32mNone\u001b[0m\u001b[1;33m)\u001b[0m\u001b[1;33m,\u001b[0m \u001b[1;33m(\u001b[0m\u001b[1;36m3\u001b[0m\u001b[1;33m,\u001b[0m \u001b[1;34m\"c\"\u001b[0m\u001b[1;33m)\u001b[0m\u001b[1;33m]\u001b[0m\u001b[1;33m)\u001b[0m\u001b[1;33m\u001b[0m\u001b[0m\n\u001b[0;32m      4\u001b[0m \u001b[0mcheck\u001b[0m \u001b[1;33m=\u001b[0m \u001b[0mCheck\u001b[0m\u001b[1;33m(\u001b[0m\u001b[0mdf\u001b[0m\u001b[1;33m)\u001b[0m\u001b[1;33m\u001b[0m\u001b[0m\n\u001b[0;32m      5\u001b[0m \u001b[0mcheck\u001b[0m\u001b[1;33m.\u001b[0m\u001b[0mhasUniqueKey\u001b[0m\u001b[1;33m(\u001b[0m\u001b[1;34m\"_1\"\u001b[0m\u001b[1;33m,\u001b[0m \u001b[1;34m\"_2\"\u001b[0m\u001b[1;33m)\u001b[0m\u001b[1;33m.\u001b[0m\u001b[0misNeverNull\u001b[0m\u001b[1;33m(\u001b[0m\u001b[1;34m\"_1\"\u001b[0m\u001b[1;33m)\u001b[0m\u001b[1;33m.\u001b[0m\u001b[0mrun\u001b[0m\u001b[1;33m(\u001b[0m\u001b[1;33m)\u001b[0m\u001b[1;33m\u001b[0m\u001b[0m\n",
      "\u001b[1;32m~\\AppData\\Local\\Continuum\\anaconda3\\lib\\site-packages\\pyddq\\core.py\u001b[0m in \u001b[0;36m<module>\u001b[1;34m()\u001b[0m\n\u001b[1;32m----> 1\u001b[1;33m \u001b[1;32mfrom\u001b[0m \u001b[0mpyddq\u001b[0m\u001b[1;33m.\u001b[0m\u001b[0mreporters\u001b[0m \u001b[1;32mimport\u001b[0m \u001b[0mConsoleReporter\u001b[0m\u001b[1;33m\u001b[0m\u001b[0m\n\u001b[0m\u001b[0;32m      2\u001b[0m \u001b[1;32mfrom\u001b[0m \u001b[0mpyddq\u001b[0m\u001b[1;33m.\u001b[0m\u001b[0mstreams\u001b[0m \u001b[1;32mimport\u001b[0m \u001b[0mByteArrayOutputStream\u001b[0m\u001b[1;33m\u001b[0m\u001b[0m\n\u001b[0;32m      3\u001b[0m \u001b[1;32mfrom\u001b[0m \u001b[0mpyddq\u001b[0m\u001b[1;33m.\u001b[0m\u001b[0mexceptions\u001b[0m \u001b[1;32mimport\u001b[0m \u001b[0mJavaClassNotFoundException\u001b[0m\u001b[1;33m\u001b[0m\u001b[0m\n\u001b[0;32m      4\u001b[0m \u001b[1;32mimport\u001b[0m \u001b[0mpyddq\u001b[0m\u001b[1;33m.\u001b[0m\u001b[0mjvm_conversions\u001b[0m \u001b[1;32mas\u001b[0m \u001b[0mjc\u001b[0m\u001b[1;33m\u001b[0m\u001b[0m\n\u001b[0;32m      5\u001b[0m \u001b[1;33m\u001b[0m\u001b[0m\n",
      "\u001b[1;32m~\\AppData\\Local\\Continuum\\anaconda3\\lib\\site-packages\\pyddq\\reporters.py\u001b[0m in \u001b[0;36m<module>\u001b[1;34m()\u001b[0m\n\u001b[0;32m      1\u001b[0m \u001b[1;32mfrom\u001b[0m \u001b[0mpyddq\u001b[0m\u001b[1;33m.\u001b[0m\u001b[0mstreams\u001b[0m \u001b[1;32mimport\u001b[0m \u001b[0mPrintStream\u001b[0m\u001b[1;33m,\u001b[0m \u001b[0mOutputStream\u001b[0m\u001b[1;33m,\u001b[0m \u001b[0mByteArrayOutputStream\u001b[0m\u001b[1;33m\u001b[0m\u001b[0m\n\u001b[0;32m      2\u001b[0m \u001b[1;32mfrom\u001b[0m \u001b[0mpy4j\u001b[0m\u001b[1;33m.\u001b[0m\u001b[0mjava_gateway\u001b[0m \u001b[1;32mimport\u001b[0m \u001b[0mget_field\u001b[0m\u001b[1;33m\u001b[0m\u001b[0m\n\u001b[1;32m----> 3\u001b[1;33m \u001b[1;32mimport\u001b[0m \u001b[0mjvm_conversions\u001b[0m \u001b[1;32mas\u001b[0m \u001b[0mjc\u001b[0m\u001b[1;33m\u001b[0m\u001b[0m\n\u001b[0m\u001b[0;32m      4\u001b[0m \u001b[1;33m\u001b[0m\u001b[0m\n\u001b[0;32m      5\u001b[0m \u001b[1;33m\u001b[0m\u001b[0m\n",
      "\u001b[1;31mModuleNotFoundError\u001b[0m: No module named 'jvm_conversions'"
     ]
    }
   ],
   "source": [
    "from pyddq.core import Check\n",
    "\n",
    "df = spark.createDataFrame([(1, \"a\"), (1, None), (3, \"c\")])\n",
    "check = Check(df)\n",
    "check.hasUniqueKey(\"_1\", \"_2\").isNeverNull(\"_1\").run()"
   ]
  },
  {
   "cell_type": "code",
   "execution_count": null,
   "metadata": {
    "collapsed": true
   },
   "outputs": [],
   "source": []
  }
 ],
 "metadata": {
  "kernelspec": {
   "display_name": "Python 3",
   "language": "python",
   "name": "python3"
  },
  "language_info": {
   "codemirror_mode": {
    "name": "ipython",
    "version": 3
   },
   "file_extension": ".py",
   "mimetype": "text/x-python",
   "name": "python",
   "nbconvert_exporter": "python",
   "pygments_lexer": "ipython3",
   "version": "3.5.4"
  }
 },
 "nbformat": 4,
 "nbformat_minor": 2
}
